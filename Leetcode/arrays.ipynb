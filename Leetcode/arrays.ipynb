{
 "cells": [
  {
   "cell_type": "markdown",
   "id": "3723abe2",
   "metadata": {},
   "source": [
    "## Problem 01 Easy\n",
    "Write a function to find the longest common prefix string amongst an array of strings.\n",
    "\n",
    "If there is no common prefix, return an empty string \"\".\n",
    "\n",
    " \n",
    "\n",
    "Example 1:\n",
    "\n",
    "Input: strs = [\"flower\",\"flow\",\"flight\"]\n",
    "Output: \"fl\"\n",
    "Example 2:\n",
    "\n",
    "Input: strs = [\"dog\",\"racecar\",\"car\"]\n",
    "Output: \"\"\n",
    "Explanation: There is no common prefix among the input strings."
   ]
  },
  {
   "cell_type": "code",
   "execution_count": null,
   "id": "15ab53eb",
   "metadata": {},
   "outputs": [],
   "source": [
    "def longestCommonPrefix(strs):\n",
    "    if not strs:\n",
    "        return \"\"\n",
    "    \n",
    "    prefix = strs[0]\n",
    "    \n",
    "    for i in range(1, len(strs)):\n",
    "        while not strs[i].startswith(prefix):\n",
    "            prefix = prefix[:-1] \n",
    "            if not prefix:\n",
    "                return \"\"\n",
    "    \n",
    "    return prefix\n"
   ]
  },
  {
   "cell_type": "code",
   "execution_count": 4,
   "id": "74a86c71",
   "metadata": {},
   "outputs": [
    {
     "name": "stdout",
     "output_type": "stream",
     "text": [
      "flower\n",
      "this is logic str i is  flow\n",
      "condition is true str i does not starts with  flower\n",
      "condition is true str i does not starts with  flowe\n",
      "this is logic str i is  flight\n",
      "condition is true str i does not starts with  flow\n",
      "condition is true str i does not starts with  flo\n",
      "fl\n"
     ]
    }
   ],
   "source": [
    "print(longestCommonPrefix([\"flower\",\"flow\",\"flight\"]))  # \"fl\"\"\n"
   ]
  },
  {
   "cell_type": "markdown",
   "id": "94f8c9d6",
   "metadata": {},
   "source": [
    "## Problem 02\n",
    "'''\n",
    "Given an integer array nums sorted in non-decreasing order, remove the duplicates in-place such that each unique element appears only once. The relative order of the elements should be kept the same. Then return the number of unique elements in nums.\n",
    "\n",
    "Consider the number of unique elements of nums to be k, to get accepted, you need to do the following things:\n",
    "\n",
    "Change the array nums such that the first k elements of nums contain the unique elements in the order they were present in nums initially. The remaining elements of nums are not important as well as the size of nums.\n",
    "Return k.\n",
    "Custom Judge:\n",
    "\n",
    "The judge will test your solution with the following code:\n",
    "```\n",
    "int[] nums = [...]; // Input array\n",
    "int[] expectedNums = [...]; // The expected answer with correct length\n",
    "\n",
    "int k = removeDuplicates(nums); // Calls your implementation\n",
    "\n",
    "assert k == expectedNums.length;\n",
    "for (int i = 0; i < k; i++) {\n",
    "    assert nums[i] == expectedNums[i];\n",
    "}```\n",
    "If all assertions pass, then your solution will be accepted.\n",
    "\n",
    " \n",
    "\n",
    "Example 1:\n",
    "\n",
    "```Input: nums = [1,1,2]\n",
    "Output: 2, nums = [1,2,_]```\n",
    "Explanation: Your function should return k = 2, with the first two elements of nums being 1 and 2 respectively.\n",
    "It does not matter what you leave beyond the returned k (hence they are underscores).\n",
    "Example 2:\n",
    "```\n",
    "Input: nums = [0,0,1,1,1,2,2,3,3,4]\n",
    "Output: 5, nums = [0,1,2,3,4,_,_,_,_,_]```\n",
    "Explanation: Your function should return k = 5, with the first five elements of nums being 0, 1, 2, 3, and 4 respectively.\n",
    "It does not matter what you leave beyond the returned k (hence they are underscores).'''"
   ]
  },
  {
   "cell_type": "code",
   "execution_count": 5,
   "id": "287229bf",
   "metadata": {},
   "outputs": [],
   "source": [
    "def removeDuplicates(nums):\n",
    "    if not nums:\n",
    "        return 0\n",
    "    \n",
    "    i = 0  # slow pointer for placing unique elements\n",
    "\n",
    "    for j in range(1, len(nums)):\n",
    "        print(\"this is slow pointer\", nums[i], 'and this fast pointer' ,nums[j])\n",
    "        if nums[j] != nums[i]:\n",
    "            i += 1\n",
    "            nums[i] = nums[j]\n",
    "        print(\"and this is nums \", nums)\n",
    "    \n",
    "    return i + 1  # because index starts from 0\n"
   ]
  },
  {
   "cell_type": "code",
   "execution_count": 6,
   "id": "876de864",
   "metadata": {},
   "outputs": [
    {
     "name": "stdout",
     "output_type": "stream",
     "text": [
      "this is slow pointer 0 and this fast pointer 0\n",
      "and this is nums  [0, 0, 1, 1, 1, 2, 2, 3, 3, 4]\n",
      "this is slow pointer 0 and this fast pointer 1\n",
      "and this is nums  [0, 1, 1, 1, 1, 2, 2, 3, 3, 4]\n",
      "this is slow pointer 1 and this fast pointer 1\n",
      "and this is nums  [0, 1, 1, 1, 1, 2, 2, 3, 3, 4]\n",
      "this is slow pointer 1 and this fast pointer 1\n",
      "and this is nums  [0, 1, 1, 1, 1, 2, 2, 3, 3, 4]\n",
      "this is slow pointer 1 and this fast pointer 2\n",
      "and this is nums  [0, 1, 2, 1, 1, 2, 2, 3, 3, 4]\n",
      "this is slow pointer 2 and this fast pointer 2\n",
      "and this is nums  [0, 1, 2, 1, 1, 2, 2, 3, 3, 4]\n",
      "this is slow pointer 2 and this fast pointer 3\n",
      "and this is nums  [0, 1, 2, 3, 1, 2, 2, 3, 3, 4]\n",
      "this is slow pointer 3 and this fast pointer 3\n",
      "and this is nums  [0, 1, 2, 3, 1, 2, 2, 3, 3, 4]\n",
      "this is slow pointer 3 and this fast pointer 4\n",
      "and this is nums  [0, 1, 2, 3, 4, 2, 2, 3, 3, 4]\n",
      "5\n",
      "[0, 1, 2, 3, 4]\n"
     ]
    }
   ],
   "source": [
    "nums = [0,0,1,1,1,2,2,3,3,4]\n",
    "k = removeDuplicates(nums)\n",
    "print(k)           # 5\n",
    "print(nums[:k])    # [0, 1, 2, 3, 4]\n"
   ]
  },
  {
   "cell_type": "code",
   "execution_count": null,
   "id": "ecf97013",
   "metadata": {},
   "outputs": [],
   "source": []
  }
 ],
 "metadata": {
  "kernelspec": {
   "display_name": "main_env",
   "language": "python",
   "name": "python3"
  },
  "language_info": {
   "codemirror_mode": {
    "name": "ipython",
    "version": 3
   },
   "file_extension": ".py",
   "mimetype": "text/x-python",
   "name": "python",
   "nbconvert_exporter": "python",
   "pygments_lexer": "ipython3",
   "version": "3.11.11"
  }
 },
 "nbformat": 4,
 "nbformat_minor": 5
}
